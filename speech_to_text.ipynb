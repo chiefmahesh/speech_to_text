{
 "cells": [
  {
   "cell_type": "code",
   "execution_count": null,
   "metadata": {
    "collapsed": true
   },
   "outputs": [],
   "source": [
    "import speech_recognition as sr"
   ]
  },
  {
   "cell_type": "code",
   "execution_count": null,
   "metadata": {
    "collapsed": true
   },
   "outputs": [],
   "source": [
    "r = sr.Recognizer()"
   ]
  },
  {
   "cell_type": "code",
   "execution_count": null,
   "metadata": {},
   "outputs": [],
   "source": [
    "# Below code is for speech to text. Please speak in Hindi\n",
    "with sr.Microphone() as source:\n",
    "    print(\"Please say something...\")\n",
    "    audio = r.listen(source)\n",
    "    print(\"Time out..\")\n",
    "    \n",
    "try:\n",
    "    print(\"Text : \"+r.recognize_google(audio, language='hi-IN'))\n",
    "except:\n",
    "    pass;"
   ]
  },
  {
   "cell_type": "code",
   "execution_count": null,
   "metadata": {},
   "outputs": [],
   "source": [
    "# Below code is for audio file to text. Please provide complete hindi audio file path\n",
    "file = \"/Sandbox/aiml/hindi.wav\"\n",
    "with sr.AudioFile(file) as source:\n",
    "    audio = r.listen(source)\n",
    "    text = r.recognize_google(audio,  language='hi-IN')\n",
    "    print(\"Text :  \" + text)"
   ]
  }
 ],
 "metadata": {
  "kernelspec": {
   "display_name": "Python 3",
   "language": "python",
   "name": "python3"
  },
  "language_info": {
   "codemirror_mode": {
    "name": "ipython",
    "version": 3
   },
   "file_extension": ".py",
   "mimetype": "text/x-python",
   "name": "python",
   "nbconvert_exporter": "python",
   "pygments_lexer": "ipython3",
   "version": "3.5.4"
  }
 },
 "nbformat": 4,
 "nbformat_minor": 2
}
